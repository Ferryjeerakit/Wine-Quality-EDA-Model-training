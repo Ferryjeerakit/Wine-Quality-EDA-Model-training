{
  "nbformat": 4,
  "nbformat_minor": 0,
  "metadata": {
    "colab": {
      "provenance": [],
      "gpuType": "T4",
      "toc_visible": true
    },
    "kernelspec": {
      "name": "python3",
      "display_name": "Python 3"
    },
    "language_info": {
      "name": "python"
    }
  },
  "cells": [
    {
      "cell_type": "markdown",
      "source": [
        "# EDA\n"
      ],
      "metadata": {
        "id": "aPv8mMbTIgBw"
      }
    },
    {
      "cell_type": "code",
      "source": [
        "#Importing Library ต่างๆ\n",
        "from sklearn import preprocessing\n",
        "import numpy as np\n",
        "import pandas as pd\n",
        "import seaborn as sns\n",
        "import matplotlib.pyplot as plt\n",
        "plt.style.use(\"ggplot\")  #using style ggplot\n",
        "\n",
        "%matplotlib inline\n",
        "\n",
        "import plotly.graph_objects as go\n",
        "import plotly.express as px"
      ],
      "metadata": {
        "id": "NQwtL2MjCDsG"
      },
      "execution_count": 6,
      "outputs": []
    },
    {
      "cell_type": "code",
      "source": [
        "from google.colab import drive\n",
        "drive.mount('/content/drive/')"
      ],
      "metadata": {
        "colab": {
          "base_uri": "https://localhost:8080/"
        },
        "id": "o6YX89uPu3OJ",
        "outputId": "662e134e-65af-4bac-85de-642ba683854f"
      },
      "execution_count": 7,
      "outputs": [
        {
          "output_type": "stream",
          "name": "stdout",
          "text": [
            "Mounted at /content/drive/\n"
          ]
        }
      ]
    },
    {
      "cell_type": "code",
      "source": [
        "file_path = '/content/drive/MyDrive/data/WineQT.csv'\n",
        "df = pd.read_csv(file_path, encoding='unicode_escape')"
      ],
      "metadata": {
        "id": "guC3o6L5u4vV"
      },
      "execution_count": 8,
      "outputs": []
    },
    {
      "cell_type": "code",
      "source": [
        "df.head(5)"
      ],
      "metadata": {
        "colab": {
          "base_uri": "https://localhost:8080/",
          "height": 223
        },
        "id": "sUXQvDi5vNhe",
        "outputId": "a4032029-aa2a-456e-cd07-d6301d15948c"
      },
      "execution_count": 9,
      "outputs": [
        {
          "output_type": "execute_result",
          "data": {
            "text/plain": [
              "   fixed acidity  volatile acidity  citric acid  residual sugar  chlorides  \\\n",
              "0            7.4              0.70         0.00             1.9      0.076   \n",
              "1            7.8              0.88         0.00             2.6      0.098   \n",
              "2            7.8              0.76         0.04             2.3      0.092   \n",
              "3           11.2              0.28         0.56             1.9      0.075   \n",
              "4            7.4              0.70         0.00             1.9      0.076   \n",
              "\n",
              "   free sulfur dioxide  total sulfur dioxide  density    pH  sulphates  \\\n",
              "0                 11.0                  34.0   0.9978  3.51       0.56   \n",
              "1                 25.0                  67.0   0.9968  3.20       0.68   \n",
              "2                 15.0                  54.0   0.9970  3.26       0.65   \n",
              "3                 17.0                  60.0   0.9980  3.16       0.58   \n",
              "4                 11.0                  34.0   0.9978  3.51       0.56   \n",
              "\n",
              "   alcohol  quality  Id  \n",
              "0      9.4        5   0  \n",
              "1      9.8        5   1  \n",
              "2      9.8        5   2  \n",
              "3      9.8        6   3  \n",
              "4      9.4        5   4  "
            ],
            "text/html": [
              "\n",
              "  <div id=\"df-ba8c3534-fc79-47de-8520-222f530229a9\" class=\"colab-df-container\">\n",
              "    <div>\n",
              "<style scoped>\n",
              "    .dataframe tbody tr th:only-of-type {\n",
              "        vertical-align: middle;\n",
              "    }\n",
              "\n",
              "    .dataframe tbody tr th {\n",
              "        vertical-align: top;\n",
              "    }\n",
              "\n",
              "    .dataframe thead th {\n",
              "        text-align: right;\n",
              "    }\n",
              "</style>\n",
              "<table border=\"1\" class=\"dataframe\">\n",
              "  <thead>\n",
              "    <tr style=\"text-align: right;\">\n",
              "      <th></th>\n",
              "      <th>fixed acidity</th>\n",
              "      <th>volatile acidity</th>\n",
              "      <th>citric acid</th>\n",
              "      <th>residual sugar</th>\n",
              "      <th>chlorides</th>\n",
              "      <th>free sulfur dioxide</th>\n",
              "      <th>total sulfur dioxide</th>\n",
              "      <th>density</th>\n",
              "      <th>pH</th>\n",
              "      <th>sulphates</th>\n",
              "      <th>alcohol</th>\n",
              "      <th>quality</th>\n",
              "      <th>Id</th>\n",
              "    </tr>\n",
              "  </thead>\n",
              "  <tbody>\n",
              "    <tr>\n",
              "      <th>0</th>\n",
              "      <td>7.4</td>\n",
              "      <td>0.70</td>\n",
              "      <td>0.00</td>\n",
              "      <td>1.9</td>\n",
              "      <td>0.076</td>\n",
              "      <td>11.0</td>\n",
              "      <td>34.0</td>\n",
              "      <td>0.9978</td>\n",
              "      <td>3.51</td>\n",
              "      <td>0.56</td>\n",
              "      <td>9.4</td>\n",
              "      <td>5</td>\n",
              "      <td>0</td>\n",
              "    </tr>\n",
              "    <tr>\n",
              "      <th>1</th>\n",
              "      <td>7.8</td>\n",
              "      <td>0.88</td>\n",
              "      <td>0.00</td>\n",
              "      <td>2.6</td>\n",
              "      <td>0.098</td>\n",
              "      <td>25.0</td>\n",
              "      <td>67.0</td>\n",
              "      <td>0.9968</td>\n",
              "      <td>3.20</td>\n",
              "      <td>0.68</td>\n",
              "      <td>9.8</td>\n",
              "      <td>5</td>\n",
              "      <td>1</td>\n",
              "    </tr>\n",
              "    <tr>\n",
              "      <th>2</th>\n",
              "      <td>7.8</td>\n",
              "      <td>0.76</td>\n",
              "      <td>0.04</td>\n",
              "      <td>2.3</td>\n",
              "      <td>0.092</td>\n",
              "      <td>15.0</td>\n",
              "      <td>54.0</td>\n",
              "      <td>0.9970</td>\n",
              "      <td>3.26</td>\n",
              "      <td>0.65</td>\n",
              "      <td>9.8</td>\n",
              "      <td>5</td>\n",
              "      <td>2</td>\n",
              "    </tr>\n",
              "    <tr>\n",
              "      <th>3</th>\n",
              "      <td>11.2</td>\n",
              "      <td>0.28</td>\n",
              "      <td>0.56</td>\n",
              "      <td>1.9</td>\n",
              "      <td>0.075</td>\n",
              "      <td>17.0</td>\n",
              "      <td>60.0</td>\n",
              "      <td>0.9980</td>\n",
              "      <td>3.16</td>\n",
              "      <td>0.58</td>\n",
              "      <td>9.8</td>\n",
              "      <td>6</td>\n",
              "      <td>3</td>\n",
              "    </tr>\n",
              "    <tr>\n",
              "      <th>4</th>\n",
              "      <td>7.4</td>\n",
              "      <td>0.70</td>\n",
              "      <td>0.00</td>\n",
              "      <td>1.9</td>\n",
              "      <td>0.076</td>\n",
              "      <td>11.0</td>\n",
              "      <td>34.0</td>\n",
              "      <td>0.9978</td>\n",
              "      <td>3.51</td>\n",
              "      <td>0.56</td>\n",
              "      <td>9.4</td>\n",
              "      <td>5</td>\n",
              "      <td>4</td>\n",
              "    </tr>\n",
              "  </tbody>\n",
              "</table>\n",
              "</div>\n",
              "    <div class=\"colab-df-buttons\">\n",
              "\n",
              "  <div class=\"colab-df-container\">\n",
              "    <button class=\"colab-df-convert\" onclick=\"convertToInteractive('df-ba8c3534-fc79-47de-8520-222f530229a9')\"\n",
              "            title=\"Convert this dataframe to an interactive table.\"\n",
              "            style=\"display:none;\">\n",
              "\n",
              "  <svg xmlns=\"http://www.w3.org/2000/svg\" height=\"24px\" viewBox=\"0 -960 960 960\">\n",
              "    <path d=\"M120-120v-720h720v720H120Zm60-500h600v-160H180v160Zm220 220h160v-160H400v160Zm0 220h160v-160H400v160ZM180-400h160v-160H180v160Zm440 0h160v-160H620v160ZM180-180h160v-160H180v160Zm440 0h160v-160H620v160Z\"/>\n",
              "  </svg>\n",
              "    </button>\n",
              "\n",
              "  <style>\n",
              "    .colab-df-container {\n",
              "      display:flex;\n",
              "      gap: 12px;\n",
              "    }\n",
              "\n",
              "    .colab-df-convert {\n",
              "      background-color: #E8F0FE;\n",
              "      border: none;\n",
              "      border-radius: 50%;\n",
              "      cursor: pointer;\n",
              "      display: none;\n",
              "      fill: #1967D2;\n",
              "      height: 32px;\n",
              "      padding: 0 0 0 0;\n",
              "      width: 32px;\n",
              "    }\n",
              "\n",
              "    .colab-df-convert:hover {\n",
              "      background-color: #E2EBFA;\n",
              "      box-shadow: 0px 1px 2px rgba(60, 64, 67, 0.3), 0px 1px 3px 1px rgba(60, 64, 67, 0.15);\n",
              "      fill: #174EA6;\n",
              "    }\n",
              "\n",
              "    .colab-df-buttons div {\n",
              "      margin-bottom: 4px;\n",
              "    }\n",
              "\n",
              "    [theme=dark] .colab-df-convert {\n",
              "      background-color: #3B4455;\n",
              "      fill: #D2E3FC;\n",
              "    }\n",
              "\n",
              "    [theme=dark] .colab-df-convert:hover {\n",
              "      background-color: #434B5C;\n",
              "      box-shadow: 0px 1px 3px 1px rgba(0, 0, 0, 0.15);\n",
              "      filter: drop-shadow(0px 1px 2px rgba(0, 0, 0, 0.3));\n",
              "      fill: #FFFFFF;\n",
              "    }\n",
              "  </style>\n",
              "\n",
              "    <script>\n",
              "      const buttonEl =\n",
              "        document.querySelector('#df-ba8c3534-fc79-47de-8520-222f530229a9 button.colab-df-convert');\n",
              "      buttonEl.style.display =\n",
              "        google.colab.kernel.accessAllowed ? 'block' : 'none';\n",
              "\n",
              "      async function convertToInteractive(key) {\n",
              "        const element = document.querySelector('#df-ba8c3534-fc79-47de-8520-222f530229a9');\n",
              "        const dataTable =\n",
              "          await google.colab.kernel.invokeFunction('convertToInteractive',\n",
              "                                                    [key], {});\n",
              "        if (!dataTable) return;\n",
              "\n",
              "        const docLinkHtml = 'Like what you see? Visit the ' +\n",
              "          '<a target=\"_blank\" href=https://colab.research.google.com/notebooks/data_table.ipynb>data table notebook</a>'\n",
              "          + ' to learn more about interactive tables.';\n",
              "        element.innerHTML = '';\n",
              "        dataTable['output_type'] = 'display_data';\n",
              "        await google.colab.output.renderOutput(dataTable, element);\n",
              "        const docLink = document.createElement('div');\n",
              "        docLink.innerHTML = docLinkHtml;\n",
              "        element.appendChild(docLink);\n",
              "      }\n",
              "    </script>\n",
              "  </div>\n",
              "\n",
              "\n",
              "<div id=\"df-a70357a1-fef1-4f6a-bf55-bf8c980a007e\">\n",
              "  <button class=\"colab-df-quickchart\" onclick=\"quickchart('df-a70357a1-fef1-4f6a-bf55-bf8c980a007e')\"\n",
              "            title=\"Suggest charts\"\n",
              "            style=\"display:none;\">\n",
              "\n",
              "<svg xmlns=\"http://www.w3.org/2000/svg\" height=\"24px\"viewBox=\"0 0 24 24\"\n",
              "     width=\"24px\">\n",
              "    <g>\n",
              "        <path d=\"M19 3H5c-1.1 0-2 .9-2 2v14c0 1.1.9 2 2 2h14c1.1 0 2-.9 2-2V5c0-1.1-.9-2-2-2zM9 17H7v-7h2v7zm4 0h-2V7h2v10zm4 0h-2v-4h2v4z\"/>\n",
              "    </g>\n",
              "</svg>\n",
              "  </button>\n",
              "\n",
              "<style>\n",
              "  .colab-df-quickchart {\n",
              "      --bg-color: #E8F0FE;\n",
              "      --fill-color: #1967D2;\n",
              "      --hover-bg-color: #E2EBFA;\n",
              "      --hover-fill-color: #174EA6;\n",
              "      --disabled-fill-color: #AAA;\n",
              "      --disabled-bg-color: #DDD;\n",
              "  }\n",
              "\n",
              "  [theme=dark] .colab-df-quickchart {\n",
              "      --bg-color: #3B4455;\n",
              "      --fill-color: #D2E3FC;\n",
              "      --hover-bg-color: #434B5C;\n",
              "      --hover-fill-color: #FFFFFF;\n",
              "      --disabled-bg-color: #3B4455;\n",
              "      --disabled-fill-color: #666;\n",
              "  }\n",
              "\n",
              "  .colab-df-quickchart {\n",
              "    background-color: var(--bg-color);\n",
              "    border: none;\n",
              "    border-radius: 50%;\n",
              "    cursor: pointer;\n",
              "    display: none;\n",
              "    fill: var(--fill-color);\n",
              "    height: 32px;\n",
              "    padding: 0;\n",
              "    width: 32px;\n",
              "  }\n",
              "\n",
              "  .colab-df-quickchart:hover {\n",
              "    background-color: var(--hover-bg-color);\n",
              "    box-shadow: 0 1px 2px rgba(60, 64, 67, 0.3), 0 1px 3px 1px rgba(60, 64, 67, 0.15);\n",
              "    fill: var(--button-hover-fill-color);\n",
              "  }\n",
              "\n",
              "  .colab-df-quickchart-complete:disabled,\n",
              "  .colab-df-quickchart-complete:disabled:hover {\n",
              "    background-color: var(--disabled-bg-color);\n",
              "    fill: var(--disabled-fill-color);\n",
              "    box-shadow: none;\n",
              "  }\n",
              "\n",
              "  .colab-df-spinner {\n",
              "    border: 2px solid var(--fill-color);\n",
              "    border-color: transparent;\n",
              "    border-bottom-color: var(--fill-color);\n",
              "    animation:\n",
              "      spin 1s steps(1) infinite;\n",
              "  }\n",
              "\n",
              "  @keyframes spin {\n",
              "    0% {\n",
              "      border-color: transparent;\n",
              "      border-bottom-color: var(--fill-color);\n",
              "      border-left-color: var(--fill-color);\n",
              "    }\n",
              "    20% {\n",
              "      border-color: transparent;\n",
              "      border-left-color: var(--fill-color);\n",
              "      border-top-color: var(--fill-color);\n",
              "    }\n",
              "    30% {\n",
              "      border-color: transparent;\n",
              "      border-left-color: var(--fill-color);\n",
              "      border-top-color: var(--fill-color);\n",
              "      border-right-color: var(--fill-color);\n",
              "    }\n",
              "    40% {\n",
              "      border-color: transparent;\n",
              "      border-right-color: var(--fill-color);\n",
              "      border-top-color: var(--fill-color);\n",
              "    }\n",
              "    60% {\n",
              "      border-color: transparent;\n",
              "      border-right-color: var(--fill-color);\n",
              "    }\n",
              "    80% {\n",
              "      border-color: transparent;\n",
              "      border-right-color: var(--fill-color);\n",
              "      border-bottom-color: var(--fill-color);\n",
              "    }\n",
              "    90% {\n",
              "      border-color: transparent;\n",
              "      border-bottom-color: var(--fill-color);\n",
              "    }\n",
              "  }\n",
              "</style>\n",
              "\n",
              "  <script>\n",
              "    async function quickchart(key) {\n",
              "      const quickchartButtonEl =\n",
              "        document.querySelector('#' + key + ' button');\n",
              "      quickchartButtonEl.disabled = true;  // To prevent multiple clicks.\n",
              "      quickchartButtonEl.classList.add('colab-df-spinner');\n",
              "      try {\n",
              "        const charts = await google.colab.kernel.invokeFunction(\n",
              "            'suggestCharts', [key], {});\n",
              "      } catch (error) {\n",
              "        console.error('Error during call to suggestCharts:', error);\n",
              "      }\n",
              "      quickchartButtonEl.classList.remove('colab-df-spinner');\n",
              "      quickchartButtonEl.classList.add('colab-df-quickchart-complete');\n",
              "    }\n",
              "    (() => {\n",
              "      let quickchartButtonEl =\n",
              "        document.querySelector('#df-a70357a1-fef1-4f6a-bf55-bf8c980a007e button');\n",
              "      quickchartButtonEl.style.display =\n",
              "        google.colab.kernel.accessAllowed ? 'block' : 'none';\n",
              "    })();\n",
              "  </script>\n",
              "</div>\n",
              "    </div>\n",
              "  </div>\n"
            ]
          },
          "metadata": {},
          "execution_count": 9
        }
      ]
    },
    {
      "cell_type": "code",
      "source": [
        "#เช็ค shape กับ ข้อมูล\n",
        "print(\"-------------------------------\")\n",
        "print(\"\\n            เช็คข้อมูล\\n\")\n",
        "print(\"-------------------------------\")\n",
        "print(\"\\nShape The DataSet \", df.shape ,\"\\n\" )\n",
        "df.info()"
      ],
      "metadata": {
        "colab": {
          "base_uri": "https://localhost:8080/"
        },
        "id": "HfZ3MHhSDJ4k",
        "outputId": "40eadbd9-4b7e-441b-bc35-a89b074db04b"
      },
      "execution_count": 10,
      "outputs": [
        {
          "output_type": "stream",
          "name": "stdout",
          "text": [
            "-------------------------------\n",
            "\n",
            "            เช็คข้อมูล\n",
            "\n",
            "-------------------------------\n",
            "\n",
            "Shape The DataSet  (1143, 13) \n",
            "\n",
            "<class 'pandas.core.frame.DataFrame'>\n",
            "RangeIndex: 1143 entries, 0 to 1142\n",
            "Data columns (total 13 columns):\n",
            " #   Column                Non-Null Count  Dtype  \n",
            "---  ------                --------------  -----  \n",
            " 0   fixed acidity         1143 non-null   float64\n",
            " 1   volatile acidity      1143 non-null   float64\n",
            " 2   citric acid           1143 non-null   float64\n",
            " 3   residual sugar        1143 non-null   float64\n",
            " 4   chlorides             1143 non-null   float64\n",
            " 5   free sulfur dioxide   1143 non-null   float64\n",
            " 6   total sulfur dioxide  1143 non-null   float64\n",
            " 7   density               1143 non-null   float64\n",
            " 8   pH                    1143 non-null   float64\n",
            " 9   sulphates             1143 non-null   float64\n",
            " 10  alcohol               1143 non-null   float64\n",
            " 11  quality               1143 non-null   int64  \n",
            " 12  Id                    1143 non-null   int64  \n",
            "dtypes: float64(11), int64(2)\n",
            "memory usage: 116.2 KB\n"
          ]
        }
      ]
    },
    {
      "cell_type": "code",
      "source": [
        "#เช็ค null\n",
        "df.isna().sum()"
      ],
      "metadata": {
        "colab": {
          "base_uri": "https://localhost:8080/"
        },
        "id": "qz3S41RODKk_",
        "outputId": "6b60b561-b89a-478d-8d6e-6b77e3df25f6"
      },
      "execution_count": 11,
      "outputs": [
        {
          "output_type": "execute_result",
          "data": {
            "text/plain": [
              "fixed acidity           0\n",
              "volatile acidity        0\n",
              "citric acid             0\n",
              "residual sugar          0\n",
              "chlorides               0\n",
              "free sulfur dioxide     0\n",
              "total sulfur dioxide    0\n",
              "density                 0\n",
              "pH                      0\n",
              "sulphates               0\n",
              "alcohol                 0\n",
              "quality                 0\n",
              "Id                      0\n",
              "dtype: int64"
            ]
          },
          "metadata": {},
          "execution_count": 11
        }
      ]
    },
    {
      "cell_type": "code",
      "source": [
        "#describe data\n",
        "df.describe().round(1)"
      ],
      "metadata": {
        "colab": {
          "base_uri": "https://localhost:8080/",
          "height": 317
        },
        "id": "IJWJfo2LDuhZ",
        "outputId": "cd9cd4b8-9d53-4662-a09a-8a94d0bb1303"
      },
      "execution_count": 12,
      "outputs": [
        {
          "output_type": "execute_result",
          "data": {
            "text/plain": [
              "       fixed acidity  volatile acidity  citric acid  residual sugar  \\\n",
              "count         1143.0            1143.0       1143.0          1143.0   \n",
              "mean             8.3               0.5          0.3             2.5   \n",
              "std              1.7               0.2          0.2             1.4   \n",
              "min              4.6               0.1          0.0             0.9   \n",
              "25%              7.1               0.4          0.1             1.9   \n",
              "50%              7.9               0.5          0.2             2.2   \n",
              "75%              9.1               0.6          0.4             2.6   \n",
              "max             15.9               1.6          1.0            15.5   \n",
              "\n",
              "       chlorides  free sulfur dioxide  total sulfur dioxide  density      pH  \\\n",
              "count     1143.0               1143.0                1143.0   1143.0  1143.0   \n",
              "mean         0.1                 15.6                  45.9      1.0     3.3   \n",
              "std          0.0                 10.3                  32.8      0.0     0.2   \n",
              "min          0.0                  1.0                   6.0      1.0     2.7   \n",
              "25%          0.1                  7.0                  21.0      1.0     3.2   \n",
              "50%          0.1                 13.0                  37.0      1.0     3.3   \n",
              "75%          0.1                 21.0                  61.0      1.0     3.4   \n",
              "max          0.6                 68.0                 289.0      1.0     4.0   \n",
              "\n",
              "       sulphates  alcohol  quality      Id  \n",
              "count     1143.0   1143.0   1143.0  1143.0  \n",
              "mean         0.7     10.4      5.7   805.0  \n",
              "std          0.2      1.1      0.8   464.0  \n",
              "min          0.3      8.4      3.0     0.0  \n",
              "25%          0.6      9.5      5.0   411.0  \n",
              "50%          0.6     10.2      6.0   794.0  \n",
              "75%          0.7     11.1      6.0  1209.5  \n",
              "max          2.0     14.9      8.0  1597.0  "
            ],
            "text/html": [
              "\n",
              "  <div id=\"df-f041c359-90c5-4c7f-814c-ea0a1de7f898\" class=\"colab-df-container\">\n",
              "    <div>\n",
              "<style scoped>\n",
              "    .dataframe tbody tr th:only-of-type {\n",
              "        vertical-align: middle;\n",
              "    }\n",
              "\n",
              "    .dataframe tbody tr th {\n",
              "        vertical-align: top;\n",
              "    }\n",
              "\n",
              "    .dataframe thead th {\n",
              "        text-align: right;\n",
              "    }\n",
              "</style>\n",
              "<table border=\"1\" class=\"dataframe\">\n",
              "  <thead>\n",
              "    <tr style=\"text-align: right;\">\n",
              "      <th></th>\n",
              "      <th>fixed acidity</th>\n",
              "      <th>volatile acidity</th>\n",
              "      <th>citric acid</th>\n",
              "      <th>residual sugar</th>\n",
              "      <th>chlorides</th>\n",
              "      <th>free sulfur dioxide</th>\n",
              "      <th>total sulfur dioxide</th>\n",
              "      <th>density</th>\n",
              "      <th>pH</th>\n",
              "      <th>sulphates</th>\n",
              "      <th>alcohol</th>\n",
              "      <th>quality</th>\n",
              "      <th>Id</th>\n",
              "    </tr>\n",
              "  </thead>\n",
              "  <tbody>\n",
              "    <tr>\n",
              "      <th>count</th>\n",
              "      <td>1143.0</td>\n",
              "      <td>1143.0</td>\n",
              "      <td>1143.0</td>\n",
              "      <td>1143.0</td>\n",
              "      <td>1143.0</td>\n",
              "      <td>1143.0</td>\n",
              "      <td>1143.0</td>\n",
              "      <td>1143.0</td>\n",
              "      <td>1143.0</td>\n",
              "      <td>1143.0</td>\n",
              "      <td>1143.0</td>\n",
              "      <td>1143.0</td>\n",
              "      <td>1143.0</td>\n",
              "    </tr>\n",
              "    <tr>\n",
              "      <th>mean</th>\n",
              "      <td>8.3</td>\n",
              "      <td>0.5</td>\n",
              "      <td>0.3</td>\n",
              "      <td>2.5</td>\n",
              "      <td>0.1</td>\n",
              "      <td>15.6</td>\n",
              "      <td>45.9</td>\n",
              "      <td>1.0</td>\n",
              "      <td>3.3</td>\n",
              "      <td>0.7</td>\n",
              "      <td>10.4</td>\n",
              "      <td>5.7</td>\n",
              "      <td>805.0</td>\n",
              "    </tr>\n",
              "    <tr>\n",
              "      <th>std</th>\n",
              "      <td>1.7</td>\n",
              "      <td>0.2</td>\n",
              "      <td>0.2</td>\n",
              "      <td>1.4</td>\n",
              "      <td>0.0</td>\n",
              "      <td>10.3</td>\n",
              "      <td>32.8</td>\n",
              "      <td>0.0</td>\n",
              "      <td>0.2</td>\n",
              "      <td>0.2</td>\n",
              "      <td>1.1</td>\n",
              "      <td>0.8</td>\n",
              "      <td>464.0</td>\n",
              "    </tr>\n",
              "    <tr>\n",
              "      <th>min</th>\n",
              "      <td>4.6</td>\n",
              "      <td>0.1</td>\n",
              "      <td>0.0</td>\n",
              "      <td>0.9</td>\n",
              "      <td>0.0</td>\n",
              "      <td>1.0</td>\n",
              "      <td>6.0</td>\n",
              "      <td>1.0</td>\n",
              "      <td>2.7</td>\n",
              "      <td>0.3</td>\n",
              "      <td>8.4</td>\n",
              "      <td>3.0</td>\n",
              "      <td>0.0</td>\n",
              "    </tr>\n",
              "    <tr>\n",
              "      <th>25%</th>\n",
              "      <td>7.1</td>\n",
              "      <td>0.4</td>\n",
              "      <td>0.1</td>\n",
              "      <td>1.9</td>\n",
              "      <td>0.1</td>\n",
              "      <td>7.0</td>\n",
              "      <td>21.0</td>\n",
              "      <td>1.0</td>\n",
              "      <td>3.2</td>\n",
              "      <td>0.6</td>\n",
              "      <td>9.5</td>\n",
              "      <td>5.0</td>\n",
              "      <td>411.0</td>\n",
              "    </tr>\n",
              "    <tr>\n",
              "      <th>50%</th>\n",
              "      <td>7.9</td>\n",
              "      <td>0.5</td>\n",
              "      <td>0.2</td>\n",
              "      <td>2.2</td>\n",
              "      <td>0.1</td>\n",
              "      <td>13.0</td>\n",
              "      <td>37.0</td>\n",
              "      <td>1.0</td>\n",
              "      <td>3.3</td>\n",
              "      <td>0.6</td>\n",
              "      <td>10.2</td>\n",
              "      <td>6.0</td>\n",
              "      <td>794.0</td>\n",
              "    </tr>\n",
              "    <tr>\n",
              "      <th>75%</th>\n",
              "      <td>9.1</td>\n",
              "      <td>0.6</td>\n",
              "      <td>0.4</td>\n",
              "      <td>2.6</td>\n",
              "      <td>0.1</td>\n",
              "      <td>21.0</td>\n",
              "      <td>61.0</td>\n",
              "      <td>1.0</td>\n",
              "      <td>3.4</td>\n",
              "      <td>0.7</td>\n",
              "      <td>11.1</td>\n",
              "      <td>6.0</td>\n",
              "      <td>1209.5</td>\n",
              "    </tr>\n",
              "    <tr>\n",
              "      <th>max</th>\n",
              "      <td>15.9</td>\n",
              "      <td>1.6</td>\n",
              "      <td>1.0</td>\n",
              "      <td>15.5</td>\n",
              "      <td>0.6</td>\n",
              "      <td>68.0</td>\n",
              "      <td>289.0</td>\n",
              "      <td>1.0</td>\n",
              "      <td>4.0</td>\n",
              "      <td>2.0</td>\n",
              "      <td>14.9</td>\n",
              "      <td>8.0</td>\n",
              "      <td>1597.0</td>\n",
              "    </tr>\n",
              "  </tbody>\n",
              "</table>\n",
              "</div>\n",
              "    <div class=\"colab-df-buttons\">\n",
              "\n",
              "  <div class=\"colab-df-container\">\n",
              "    <button class=\"colab-df-convert\" onclick=\"convertToInteractive('df-f041c359-90c5-4c7f-814c-ea0a1de7f898')\"\n",
              "            title=\"Convert this dataframe to an interactive table.\"\n",
              "            style=\"display:none;\">\n",
              "\n",
              "  <svg xmlns=\"http://www.w3.org/2000/svg\" height=\"24px\" viewBox=\"0 -960 960 960\">\n",
              "    <path d=\"M120-120v-720h720v720H120Zm60-500h600v-160H180v160Zm220 220h160v-160H400v160Zm0 220h160v-160H400v160ZM180-400h160v-160H180v160Zm440 0h160v-160H620v160ZM180-180h160v-160H180v160Zm440 0h160v-160H620v160Z\"/>\n",
              "  </svg>\n",
              "    </button>\n",
              "\n",
              "  <style>\n",
              "    .colab-df-container {\n",
              "      display:flex;\n",
              "      gap: 12px;\n",
              "    }\n",
              "\n",
              "    .colab-df-convert {\n",
              "      background-color: #E8F0FE;\n",
              "      border: none;\n",
              "      border-radius: 50%;\n",
              "      cursor: pointer;\n",
              "      display: none;\n",
              "      fill: #1967D2;\n",
              "      height: 32px;\n",
              "      padding: 0 0 0 0;\n",
              "      width: 32px;\n",
              "    }\n",
              "\n",
              "    .colab-df-convert:hover {\n",
              "      background-color: #E2EBFA;\n",
              "      box-shadow: 0px 1px 2px rgba(60, 64, 67, 0.3), 0px 1px 3px 1px rgba(60, 64, 67, 0.15);\n",
              "      fill: #174EA6;\n",
              "    }\n",
              "\n",
              "    .colab-df-buttons div {\n",
              "      margin-bottom: 4px;\n",
              "    }\n",
              "\n",
              "    [theme=dark] .colab-df-convert {\n",
              "      background-color: #3B4455;\n",
              "      fill: #D2E3FC;\n",
              "    }\n",
              "\n",
              "    [theme=dark] .colab-df-convert:hover {\n",
              "      background-color: #434B5C;\n",
              "      box-shadow: 0px 1px 3px 1px rgba(0, 0, 0, 0.15);\n",
              "      filter: drop-shadow(0px 1px 2px rgba(0, 0, 0, 0.3));\n",
              "      fill: #FFFFFF;\n",
              "    }\n",
              "  </style>\n",
              "\n",
              "    <script>\n",
              "      const buttonEl =\n",
              "        document.querySelector('#df-f041c359-90c5-4c7f-814c-ea0a1de7f898 button.colab-df-convert');\n",
              "      buttonEl.style.display =\n",
              "        google.colab.kernel.accessAllowed ? 'block' : 'none';\n",
              "\n",
              "      async function convertToInteractive(key) {\n",
              "        const element = document.querySelector('#df-f041c359-90c5-4c7f-814c-ea0a1de7f898');\n",
              "        const dataTable =\n",
              "          await google.colab.kernel.invokeFunction('convertToInteractive',\n",
              "                                                    [key], {});\n",
              "        if (!dataTable) return;\n",
              "\n",
              "        const docLinkHtml = 'Like what you see? Visit the ' +\n",
              "          '<a target=\"_blank\" href=https://colab.research.google.com/notebooks/data_table.ipynb>data table notebook</a>'\n",
              "          + ' to learn more about interactive tables.';\n",
              "        element.innerHTML = '';\n",
              "        dataTable['output_type'] = 'display_data';\n",
              "        await google.colab.output.renderOutput(dataTable, element);\n",
              "        const docLink = document.createElement('div');\n",
              "        docLink.innerHTML = docLinkHtml;\n",
              "        element.appendChild(docLink);\n",
              "      }\n",
              "    </script>\n",
              "  </div>\n",
              "\n",
              "\n",
              "<div id=\"df-85b59020-6880-4c8c-8d13-9f4fd4f442d6\">\n",
              "  <button class=\"colab-df-quickchart\" onclick=\"quickchart('df-85b59020-6880-4c8c-8d13-9f4fd4f442d6')\"\n",
              "            title=\"Suggest charts\"\n",
              "            style=\"display:none;\">\n",
              "\n",
              "<svg xmlns=\"http://www.w3.org/2000/svg\" height=\"24px\"viewBox=\"0 0 24 24\"\n",
              "     width=\"24px\">\n",
              "    <g>\n",
              "        <path d=\"M19 3H5c-1.1 0-2 .9-2 2v14c0 1.1.9 2 2 2h14c1.1 0 2-.9 2-2V5c0-1.1-.9-2-2-2zM9 17H7v-7h2v7zm4 0h-2V7h2v10zm4 0h-2v-4h2v4z\"/>\n",
              "    </g>\n",
              "</svg>\n",
              "  </button>\n",
              "\n",
              "<style>\n",
              "  .colab-df-quickchart {\n",
              "      --bg-color: #E8F0FE;\n",
              "      --fill-color: #1967D2;\n",
              "      --hover-bg-color: #E2EBFA;\n",
              "      --hover-fill-color: #174EA6;\n",
              "      --disabled-fill-color: #AAA;\n",
              "      --disabled-bg-color: #DDD;\n",
              "  }\n",
              "\n",
              "  [theme=dark] .colab-df-quickchart {\n",
              "      --bg-color: #3B4455;\n",
              "      --fill-color: #D2E3FC;\n",
              "      --hover-bg-color: #434B5C;\n",
              "      --hover-fill-color: #FFFFFF;\n",
              "      --disabled-bg-color: #3B4455;\n",
              "      --disabled-fill-color: #666;\n",
              "  }\n",
              "\n",
              "  .colab-df-quickchart {\n",
              "    background-color: var(--bg-color);\n",
              "    border: none;\n",
              "    border-radius: 50%;\n",
              "    cursor: pointer;\n",
              "    display: none;\n",
              "    fill: var(--fill-color);\n",
              "    height: 32px;\n",
              "    padding: 0;\n",
              "    width: 32px;\n",
              "  }\n",
              "\n",
              "  .colab-df-quickchart:hover {\n",
              "    background-color: var(--hover-bg-color);\n",
              "    box-shadow: 0 1px 2px rgba(60, 64, 67, 0.3), 0 1px 3px 1px rgba(60, 64, 67, 0.15);\n",
              "    fill: var(--button-hover-fill-color);\n",
              "  }\n",
              "\n",
              "  .colab-df-quickchart-complete:disabled,\n",
              "  .colab-df-quickchart-complete:disabled:hover {\n",
              "    background-color: var(--disabled-bg-color);\n",
              "    fill: var(--disabled-fill-color);\n",
              "    box-shadow: none;\n",
              "  }\n",
              "\n",
              "  .colab-df-spinner {\n",
              "    border: 2px solid var(--fill-color);\n",
              "    border-color: transparent;\n",
              "    border-bottom-color: var(--fill-color);\n",
              "    animation:\n",
              "      spin 1s steps(1) infinite;\n",
              "  }\n",
              "\n",
              "  @keyframes spin {\n",
              "    0% {\n",
              "      border-color: transparent;\n",
              "      border-bottom-color: var(--fill-color);\n",
              "      border-left-color: var(--fill-color);\n",
              "    }\n",
              "    20% {\n",
              "      border-color: transparent;\n",
              "      border-left-color: var(--fill-color);\n",
              "      border-top-color: var(--fill-color);\n",
              "    }\n",
              "    30% {\n",
              "      border-color: transparent;\n",
              "      border-left-color: var(--fill-color);\n",
              "      border-top-color: var(--fill-color);\n",
              "      border-right-color: var(--fill-color);\n",
              "    }\n",
              "    40% {\n",
              "      border-color: transparent;\n",
              "      border-right-color: var(--fill-color);\n",
              "      border-top-color: var(--fill-color);\n",
              "    }\n",
              "    60% {\n",
              "      border-color: transparent;\n",
              "      border-right-color: var(--fill-color);\n",
              "    }\n",
              "    80% {\n",
              "      border-color: transparent;\n",
              "      border-right-color: var(--fill-color);\n",
              "      border-bottom-color: var(--fill-color);\n",
              "    }\n",
              "    90% {\n",
              "      border-color: transparent;\n",
              "      border-bottom-color: var(--fill-color);\n",
              "    }\n",
              "  }\n",
              "</style>\n",
              "\n",
              "  <script>\n",
              "    async function quickchart(key) {\n",
              "      const quickchartButtonEl =\n",
              "        document.querySelector('#' + key + ' button');\n",
              "      quickchartButtonEl.disabled = true;  // To prevent multiple clicks.\n",
              "      quickchartButtonEl.classList.add('colab-df-spinner');\n",
              "      try {\n",
              "        const charts = await google.colab.kernel.invokeFunction(\n",
              "            'suggestCharts', [key], {});\n",
              "      } catch (error) {\n",
              "        console.error('Error during call to suggestCharts:', error);\n",
              "      }\n",
              "      quickchartButtonEl.classList.remove('colab-df-spinner');\n",
              "      quickchartButtonEl.classList.add('colab-df-quickchart-complete');\n",
              "    }\n",
              "    (() => {\n",
              "      let quickchartButtonEl =\n",
              "        document.querySelector('#df-85b59020-6880-4c8c-8d13-9f4fd4f442d6 button');\n",
              "      quickchartButtonEl.style.display =\n",
              "        google.colab.kernel.accessAllowed ? 'block' : 'none';\n",
              "    })();\n",
              "  </script>\n",
              "</div>\n",
              "    </div>\n",
              "  </div>\n"
            ]
          },
          "metadata": {},
          "execution_count": 12
        }
      ]
    },
    {
      "cell_type": "code",
      "source": [
        "#Drop คอลัมม์ ID\n",
        "\n",
        "df.drop(columns=\"Id\",inplace=True)\n",
        "\n",
        "\n",
        "#ดูว่า quality มีกี่ตัว  แบ่งตาม quality\n",
        "\n",
        "print(\"The Value Quality \",df[\"quality\"].unique())"
      ],
      "metadata": {
        "colab": {
          "base_uri": "https://localhost:8080/"
        },
        "id": "WLIEgsvED4MN",
        "outputId": "5dceb820-1631-4d49-968b-880c98cbe8e0"
      },
      "execution_count": 13,
      "outputs": [
        {
          "output_type": "stream",
          "name": "stdout",
          "text": [
            "The Value Quality  [5 6 7 4 8 3]\n"
          ]
        }
      ]
    },
    {
      "cell_type": "code",
      "source": [
        "#เอาข้อมูลมา groupby quality\n",
        "\n",
        "ave_qu = df.groupby(\"quality\").mean()\n",
        "ave_qu.round(1)"
      ],
      "metadata": {
        "colab": {
          "base_uri": "https://localhost:8080/",
          "height": 269
        },
        "id": "m4-qeceDD8m6",
        "outputId": "29994450-b60d-4f7e-bf4f-e3cf0fe9a5e8"
      },
      "execution_count": 14,
      "outputs": [
        {
          "output_type": "execute_result",
          "data": {
            "text/plain": [
              "         fixed acidity  volatile acidity  citric acid  residual sugar  \\\n",
              "quality                                                                 \n",
              "3                  8.5               0.9          0.2             2.7   \n",
              "4                  7.8               0.7          0.2             2.6   \n",
              "5                  8.2               0.6          0.2             2.5   \n",
              "6                  8.3               0.5          0.3             2.4   \n",
              "7                  8.9               0.4          0.4             2.8   \n",
              "8                  8.8               0.4          0.4             2.6   \n",
              "\n",
              "         chlorides  free sulfur dioxide  total sulfur dioxide  density   pH  \\\n",
              "quality                                                                       \n",
              "3              0.1                  8.2                  24.5      1.0  3.4   \n",
              "4              0.1                 14.8                  40.6      1.0  3.4   \n",
              "5              0.1                 16.6                  55.3      1.0  3.3   \n",
              "6              0.1                 15.2                  39.9      1.0  3.3   \n",
              "7              0.1                 14.5                  37.5      1.0  3.3   \n",
              "8              0.1                 11.1                  29.4      1.0  3.2   \n",
              "\n",
              "         sulphates  alcohol  \n",
              "quality                      \n",
              "3              0.5      9.7  \n",
              "4              0.6     10.3  \n",
              "5              0.6      9.9  \n",
              "6              0.7     10.7  \n",
              "7              0.7     11.5  \n",
              "8              0.8     11.9  "
            ],
            "text/html": [
              "\n",
              "  <div id=\"df-9409b29d-1c19-4fa6-8c17-75faad471b04\" class=\"colab-df-container\">\n",
              "    <div>\n",
              "<style scoped>\n",
              "    .dataframe tbody tr th:only-of-type {\n",
              "        vertical-align: middle;\n",
              "    }\n",
              "\n",
              "    .dataframe tbody tr th {\n",
              "        vertical-align: top;\n",
              "    }\n",
              "\n",
              "    .dataframe thead th {\n",
              "        text-align: right;\n",
              "    }\n",
              "</style>\n",
              "<table border=\"1\" class=\"dataframe\">\n",
              "  <thead>\n",
              "    <tr style=\"text-align: right;\">\n",
              "      <th></th>\n",
              "      <th>fixed acidity</th>\n",
              "      <th>volatile acidity</th>\n",
              "      <th>citric acid</th>\n",
              "      <th>residual sugar</th>\n",
              "      <th>chlorides</th>\n",
              "      <th>free sulfur dioxide</th>\n",
              "      <th>total sulfur dioxide</th>\n",
              "      <th>density</th>\n",
              "      <th>pH</th>\n",
              "      <th>sulphates</th>\n",
              "      <th>alcohol</th>\n",
              "    </tr>\n",
              "    <tr>\n",
              "      <th>quality</th>\n",
              "      <th></th>\n",
              "      <th></th>\n",
              "      <th></th>\n",
              "      <th></th>\n",
              "      <th></th>\n",
              "      <th></th>\n",
              "      <th></th>\n",
              "      <th></th>\n",
              "      <th></th>\n",
              "      <th></th>\n",
              "      <th></th>\n",
              "    </tr>\n",
              "  </thead>\n",
              "  <tbody>\n",
              "    <tr>\n",
              "      <th>3</th>\n",
              "      <td>8.5</td>\n",
              "      <td>0.9</td>\n",
              "      <td>0.2</td>\n",
              "      <td>2.7</td>\n",
              "      <td>0.1</td>\n",
              "      <td>8.2</td>\n",
              "      <td>24.5</td>\n",
              "      <td>1.0</td>\n",
              "      <td>3.4</td>\n",
              "      <td>0.5</td>\n",
              "      <td>9.7</td>\n",
              "    </tr>\n",
              "    <tr>\n",
              "      <th>4</th>\n",
              "      <td>7.8</td>\n",
              "      <td>0.7</td>\n",
              "      <td>0.2</td>\n",
              "      <td>2.6</td>\n",
              "      <td>0.1</td>\n",
              "      <td>14.8</td>\n",
              "      <td>40.6</td>\n",
              "      <td>1.0</td>\n",
              "      <td>3.4</td>\n",
              "      <td>0.6</td>\n",
              "      <td>10.3</td>\n",
              "    </tr>\n",
              "    <tr>\n",
              "      <th>5</th>\n",
              "      <td>8.2</td>\n",
              "      <td>0.6</td>\n",
              "      <td>0.2</td>\n",
              "      <td>2.5</td>\n",
              "      <td>0.1</td>\n",
              "      <td>16.6</td>\n",
              "      <td>55.3</td>\n",
              "      <td>1.0</td>\n",
              "      <td>3.3</td>\n",
              "      <td>0.6</td>\n",
              "      <td>9.9</td>\n",
              "    </tr>\n",
              "    <tr>\n",
              "      <th>6</th>\n",
              "      <td>8.3</td>\n",
              "      <td>0.5</td>\n",
              "      <td>0.3</td>\n",
              "      <td>2.4</td>\n",
              "      <td>0.1</td>\n",
              "      <td>15.2</td>\n",
              "      <td>39.9</td>\n",
              "      <td>1.0</td>\n",
              "      <td>3.3</td>\n",
              "      <td>0.7</td>\n",
              "      <td>10.7</td>\n",
              "    </tr>\n",
              "    <tr>\n",
              "      <th>7</th>\n",
              "      <td>8.9</td>\n",
              "      <td>0.4</td>\n",
              "      <td>0.4</td>\n",
              "      <td>2.8</td>\n",
              "      <td>0.1</td>\n",
              "      <td>14.5</td>\n",
              "      <td>37.5</td>\n",
              "      <td>1.0</td>\n",
              "      <td>3.3</td>\n",
              "      <td>0.7</td>\n",
              "      <td>11.5</td>\n",
              "    </tr>\n",
              "    <tr>\n",
              "      <th>8</th>\n",
              "      <td>8.8</td>\n",
              "      <td>0.4</td>\n",
              "      <td>0.4</td>\n",
              "      <td>2.6</td>\n",
              "      <td>0.1</td>\n",
              "      <td>11.1</td>\n",
              "      <td>29.4</td>\n",
              "      <td>1.0</td>\n",
              "      <td>3.2</td>\n",
              "      <td>0.8</td>\n",
              "      <td>11.9</td>\n",
              "    </tr>\n",
              "  </tbody>\n",
              "</table>\n",
              "</div>\n",
              "    <div class=\"colab-df-buttons\">\n",
              "\n",
              "  <div class=\"colab-df-container\">\n",
              "    <button class=\"colab-df-convert\" onclick=\"convertToInteractive('df-9409b29d-1c19-4fa6-8c17-75faad471b04')\"\n",
              "            title=\"Convert this dataframe to an interactive table.\"\n",
              "            style=\"display:none;\">\n",
              "\n",
              "  <svg xmlns=\"http://www.w3.org/2000/svg\" height=\"24px\" viewBox=\"0 -960 960 960\">\n",
              "    <path d=\"M120-120v-720h720v720H120Zm60-500h600v-160H180v160Zm220 220h160v-160H400v160Zm0 220h160v-160H400v160ZM180-400h160v-160H180v160Zm440 0h160v-160H620v160ZM180-180h160v-160H180v160Zm440 0h160v-160H620v160Z\"/>\n",
              "  </svg>\n",
              "    </button>\n",
              "\n",
              "  <style>\n",
              "    .colab-df-container {\n",
              "      display:flex;\n",
              "      gap: 12px;\n",
              "    }\n",
              "\n",
              "    .colab-df-convert {\n",
              "      background-color: #E8F0FE;\n",
              "      border: none;\n",
              "      border-radius: 50%;\n",
              "      cursor: pointer;\n",
              "      display: none;\n",
              "      fill: #1967D2;\n",
              "      height: 32px;\n",
              "      padding: 0 0 0 0;\n",
              "      width: 32px;\n",
              "    }\n",
              "\n",
              "    .colab-df-convert:hover {\n",
              "      background-color: #E2EBFA;\n",
              "      box-shadow: 0px 1px 2px rgba(60, 64, 67, 0.3), 0px 1px 3px 1px rgba(60, 64, 67, 0.15);\n",
              "      fill: #174EA6;\n",
              "    }\n",
              "\n",
              "    .colab-df-buttons div {\n",
              "      margin-bottom: 4px;\n",
              "    }\n",
              "\n",
              "    [theme=dark] .colab-df-convert {\n",
              "      background-color: #3B4455;\n",
              "      fill: #D2E3FC;\n",
              "    }\n",
              "\n",
              "    [theme=dark] .colab-df-convert:hover {\n",
              "      background-color: #434B5C;\n",
              "      box-shadow: 0px 1px 3px 1px rgba(0, 0, 0, 0.15);\n",
              "      filter: drop-shadow(0px 1px 2px rgba(0, 0, 0, 0.3));\n",
              "      fill: #FFFFFF;\n",
              "    }\n",
              "  </style>\n",
              "\n",
              "    <script>\n",
              "      const buttonEl =\n",
              "        document.querySelector('#df-9409b29d-1c19-4fa6-8c17-75faad471b04 button.colab-df-convert');\n",
              "      buttonEl.style.display =\n",
              "        google.colab.kernel.accessAllowed ? 'block' : 'none';\n",
              "\n",
              "      async function convertToInteractive(key) {\n",
              "        const element = document.querySelector('#df-9409b29d-1c19-4fa6-8c17-75faad471b04');\n",
              "        const dataTable =\n",
              "          await google.colab.kernel.invokeFunction('convertToInteractive',\n",
              "                                                    [key], {});\n",
              "        if (!dataTable) return;\n",
              "\n",
              "        const docLinkHtml = 'Like what you see? Visit the ' +\n",
              "          '<a target=\"_blank\" href=https://colab.research.google.com/notebooks/data_table.ipynb>data table notebook</a>'\n",
              "          + ' to learn more about interactive tables.';\n",
              "        element.innerHTML = '';\n",
              "        dataTable['output_type'] = 'display_data';\n",
              "        await google.colab.output.renderOutput(dataTable, element);\n",
              "        const docLink = document.createElement('div');\n",
              "        docLink.innerHTML = docLinkHtml;\n",
              "        element.appendChild(docLink);\n",
              "      }\n",
              "    </script>\n",
              "  </div>\n",
              "\n",
              "\n",
              "<div id=\"df-ef8b4da1-a3de-4d55-83d5-a07dcee04f14\">\n",
              "  <button class=\"colab-df-quickchart\" onclick=\"quickchart('df-ef8b4da1-a3de-4d55-83d5-a07dcee04f14')\"\n",
              "            title=\"Suggest charts\"\n",
              "            style=\"display:none;\">\n",
              "\n",
              "<svg xmlns=\"http://www.w3.org/2000/svg\" height=\"24px\"viewBox=\"0 0 24 24\"\n",
              "     width=\"24px\">\n",
              "    <g>\n",
              "        <path d=\"M19 3H5c-1.1 0-2 .9-2 2v14c0 1.1.9 2 2 2h14c1.1 0 2-.9 2-2V5c0-1.1-.9-2-2-2zM9 17H7v-7h2v7zm4 0h-2V7h2v10zm4 0h-2v-4h2v4z\"/>\n",
              "    </g>\n",
              "</svg>\n",
              "  </button>\n",
              "\n",
              "<style>\n",
              "  .colab-df-quickchart {\n",
              "      --bg-color: #E8F0FE;\n",
              "      --fill-color: #1967D2;\n",
              "      --hover-bg-color: #E2EBFA;\n",
              "      --hover-fill-color: #174EA6;\n",
              "      --disabled-fill-color: #AAA;\n",
              "      --disabled-bg-color: #DDD;\n",
              "  }\n",
              "\n",
              "  [theme=dark] .colab-df-quickchart {\n",
              "      --bg-color: #3B4455;\n",
              "      --fill-color: #D2E3FC;\n",
              "      --hover-bg-color: #434B5C;\n",
              "      --hover-fill-color: #FFFFFF;\n",
              "      --disabled-bg-color: #3B4455;\n",
              "      --disabled-fill-color: #666;\n",
              "  }\n",
              "\n",
              "  .colab-df-quickchart {\n",
              "    background-color: var(--bg-color);\n",
              "    border: none;\n",
              "    border-radius: 50%;\n",
              "    cursor: pointer;\n",
              "    display: none;\n",
              "    fill: var(--fill-color);\n",
              "    height: 32px;\n",
              "    padding: 0;\n",
              "    width: 32px;\n",
              "  }\n",
              "\n",
              "  .colab-df-quickchart:hover {\n",
              "    background-color: var(--hover-bg-color);\n",
              "    box-shadow: 0 1px 2px rgba(60, 64, 67, 0.3), 0 1px 3px 1px rgba(60, 64, 67, 0.15);\n",
              "    fill: var(--button-hover-fill-color);\n",
              "  }\n",
              "\n",
              "  .colab-df-quickchart-complete:disabled,\n",
              "  .colab-df-quickchart-complete:disabled:hover {\n",
              "    background-color: var(--disabled-bg-color);\n",
              "    fill: var(--disabled-fill-color);\n",
              "    box-shadow: none;\n",
              "  }\n",
              "\n",
              "  .colab-df-spinner {\n",
              "    border: 2px solid var(--fill-color);\n",
              "    border-color: transparent;\n",
              "    border-bottom-color: var(--fill-color);\n",
              "    animation:\n",
              "      spin 1s steps(1) infinite;\n",
              "  }\n",
              "\n",
              "  @keyframes spin {\n",
              "    0% {\n",
              "      border-color: transparent;\n",
              "      border-bottom-color: var(--fill-color);\n",
              "      border-left-color: var(--fill-color);\n",
              "    }\n",
              "    20% {\n",
              "      border-color: transparent;\n",
              "      border-left-color: var(--fill-color);\n",
              "      border-top-color: var(--fill-color);\n",
              "    }\n",
              "    30% {\n",
              "      border-color: transparent;\n",
              "      border-left-color: var(--fill-color);\n",
              "      border-top-color: var(--fill-color);\n",
              "      border-right-color: var(--fill-color);\n",
              "    }\n",
              "    40% {\n",
              "      border-color: transparent;\n",
              "      border-right-color: var(--fill-color);\n",
              "      border-top-color: var(--fill-color);\n",
              "    }\n",
              "    60% {\n",
              "      border-color: transparent;\n",
              "      border-right-color: var(--fill-color);\n",
              "    }\n",
              "    80% {\n",
              "      border-color: transparent;\n",
              "      border-right-color: var(--fill-color);\n",
              "      border-bottom-color: var(--fill-color);\n",
              "    }\n",
              "    90% {\n",
              "      border-color: transparent;\n",
              "      border-bottom-color: var(--fill-color);\n",
              "    }\n",
              "  }\n",
              "</style>\n",
              "\n",
              "  <script>\n",
              "    async function quickchart(key) {\n",
              "      const quickchartButtonEl =\n",
              "        document.querySelector('#' + key + ' button');\n",
              "      quickchartButtonEl.disabled = true;  // To prevent multiple clicks.\n",
              "      quickchartButtonEl.classList.add('colab-df-spinner');\n",
              "      try {\n",
              "        const charts = await google.colab.kernel.invokeFunction(\n",
              "            'suggestCharts', [key], {});\n",
              "      } catch (error) {\n",
              "        console.error('Error during call to suggestCharts:', error);\n",
              "      }\n",
              "      quickchartButtonEl.classList.remove('colab-df-spinner');\n",
              "      quickchartButtonEl.classList.add('colab-df-quickchart-complete');\n",
              "    }\n",
              "    (() => {\n",
              "      let quickchartButtonEl =\n",
              "        document.querySelector('#df-ef8b4da1-a3de-4d55-83d5-a07dcee04f14 button');\n",
              "      quickchartButtonEl.style.display =\n",
              "        google.colab.kernel.accessAllowed ? 'block' : 'none';\n",
              "    })();\n",
              "  </script>\n",
              "</div>\n",
              "    </div>\n",
              "  </div>\n"
            ]
          },
          "metadata": {},
          "execution_count": 14
        }
      ]
    },
    {
      "cell_type": "code",
      "source": [
        "#plot bar จากค่า quality\n",
        "\n",
        "ave_qu.plot(kind=\"bar\",figsize=(10,5))"
      ],
      "metadata": {
        "colab": {
          "base_uri": "https://localhost:8080/",
          "height": 482
        },
        "id": "a2EG4sfWD-x0",
        "outputId": "4f28fd62-9303-41d4-e3a1-22b7ea93592f"
      },
      "execution_count": 15,
      "outputs": [
        {
          "output_type": "execute_result",
          "data": {
            "text/plain": [
              "<Axes: xlabel='quality'>"
            ]
          },
          "metadata": {},
          "execution_count": 15
        },
        {
          "output_type": "display_data",
          "data": {
            "text/plain": [
              "<Figure size 1000x500 with 1 Axes>"
            ],
            "image/png": "[encoded data removed]"
          },
          "metadata": {}
        }
      ]
    },
    {
      "cell_type": "code",
      "source": [
        "#ดูว่าแต่ละfeature มีผลกับ quality มากแค่ไหน\n",
        "plt.figure(figsize=(10,5))\n",
        "sns.lineplot(data=df, x=\"quality\",y=\"volatile acidity\",label=\"Volatile Acidity\")\n",
        "sns.lineplot(data=df, x=\"quality\",y=\"citric acid\",label=\"Citric Acid\")\n",
        "sns.lineplot(data=df, x=\"quality\",y=\"chlorides\",label=\"chlorides\")\n",
        "sns.lineplot(data=df, x=\"quality\",y=\"pH\",label=\"PH\")\n",
        "sns.lineplot(data=df, x=\"quality\",y=\"sulphates\",label=\"Sulphates\")\n",
        "\n",
        "sns.lineplot(data=df, x=\"quality\",y=\"alcohol\",label=\"alcohol\")\n",
        "sns.lineplot(data=df, x=\"quality\",y=\"total sulfur dioxide\",label=\"total sulfur dioxide\")\n",
        "sns.lineplot(data=df, x=\"quality\",y=\"free sulfur dioxide\",label=\"free sulfur dioxide\")\n",
        "\n",
        "plt.ylabel(\"Quantity\")\n",
        "plt.title(\"Impact on quality\")\n",
        "plt.legend()\n",
        "plt.show()"
      ],
      "metadata": {
        "colab": {
          "base_uri": "https://localhost:8080/",
          "height": 492
        },
        "id": "SXxIDjUTGJbX",
        "outputId": "f64eef10-4e3f-4019-e8d7-1cdefeafdb72"
      },
      "execution_count": 16,
      "outputs": [
        {
          "output_type": "display_data",
          "data": {
            "text/plain": [
              "<Figure size 1000x500 with 1 Axes>"
            ],
            "image/png": "[encoded data removed]"
          },
          "metadata": {}
        }
      ]
    },
    {
      "cell_type": "code",
      "source": [
        "#ได้ 3 feature ที่มีผลต่อ qulity สูง นำมา Plot line graph เปรียบเทียบตาม quality\n",
        "\n",
        "#ทำ 1*3 grid\n",
        "fig, axes = plt.subplots(1, 3, figsize=(15, 5))\n",
        "\n",
        "sns.lineplot(data=df, x=\"quality\", y=\"alcohol\", color=\"r\", ax=axes[0])\n",
        "axes[0].set_xlabel('Quality')\n",
        "axes[0].set_ylabel('Alcohol')\n",
        "axes[0].set_title('Alcohol')\n",
        "\n",
        "sns.lineplot(data=df, x=\"quality\", y=\"total sulfur dioxide\", color=\"b\", ax=axes[1])\n",
        "axes[1].set_xlabel('Quality')\n",
        "axes[1].set_ylabel('Total Sulfur Dioxide')\n",
        "axes[1].set_title('Total Sulfur Dioxide')\n",
        "\n",
        "sns.lineplot(data=df, x=\"quality\", y=\"free sulfur dioxide\", color=\"g\", ax=axes[2])\n",
        "axes[2].set_xlabel('Quality')\n",
        "axes[2].set_ylabel('Free Sulfur Dioxide')\n",
        "axes[2].set_title('Free Sulfur Dioxide')\n",
        "\n",
        "plt.tight_layout()\n",
        "plt.show()"
      ],
      "metadata": {
        "colab": {
          "base_uri": "https://localhost:8080/",
          "height": 439
        },
        "id": "q0XhLt9iIX0R",
        "outputId": "ca85af8b-6930-46dd-f7e9-6c088d74fa34"
      },
      "execution_count": 17,
      "outputs": [
        {
          "output_type": "display_data",
          "data": {
            "text/plain": [
              "<Figure size 1500x500 with 3 Axes>"
            ],
            "image/png": "[encoded data removed]"
          },
          "metadata": {}
        }
      ]
    },
    {
      "cell_type": "markdown",
      "source": [
        "หลังจาก EDA พบว่า ไวน์มี Quality ที่ดีที่สุดคือ 8 และแย่สุดคือ 3\n",
        "โดยปัจจัยหลักที่ส่งผลต่อไวน์คือ\n",
        "\n",
        "1.   total sulfur dioxide\n",
        "2.   free sulfur dioxide\n",
        "1.   alcohol\n",
        "\n",
        "\n",
        "\n",
        "\n",
        "\n"
      ],
      "metadata": {
        "id": "3AYUR9wyLADA"
      }
    },
    {
      "cell_type": "markdown",
      "source": [
        "# ML"
      ],
      "metadata": {
        "id": "lhflgJu3LtZI"
      }
    },
    {
      "cell_type": "code",
      "source": [
        "from sklearn.linear_model import LinearRegression ,LogisticRegression\n",
        "from sklearn.model_selection import train_test_split\n",
        "from sklearn.metrics import mean_absolute_error ,mean_squared_error, median_absolute_error,confusion_matrix,accuracy_score\n",
        "\n",
        "from sklearn.tree import DecisionTreeClassifier\n",
        "from sklearn.neighbors import KNeighborsClassifier\n",
        "\n",
        "from sklearn.svm import SVC ,SVR"
      ],
      "metadata": {
        "id": "bY_WJbBNL2z_"
      },
      "execution_count": 18,
      "outputs": []
    },
    {
      "cell_type": "code",
      "source": [
        "#X \"ไม่เอา quality\" Y เอาเฉพาะ quality\n",
        "X = df.drop(columns=\"quality\")\n",
        "y = df[\"quality\"]    # y = quality"
      ],
      "metadata": {
        "id": "Mg_d1jUTL6zr"
      },
      "execution_count": 19,
      "outputs": []
    },
    {
      "cell_type": "code",
      "source": [
        "# split the data train and test\n",
        "X_train, X_test, y_train, y_test = train_test_split(X, y, test_size=0.25, random_state=42)\n",
        "\n",
        "print(\"X Train : \", X_train.shape)\n",
        "print(\"X Test  : \", X_test.shape)\n",
        "print(\"Y Train : \", y_train.shape)\n",
        "print(\"Y Test  : \", y_test.shape)"
      ],
      "metadata": {
        "colab": {
          "base_uri": "https://localhost:8080/"
        },
        "id": "REAKpmirL7-Q",
        "outputId": "73e6c01e-0229-4736-df57-912513e8e803"
      },
      "execution_count": 20,
      "outputs": [
        {
          "output_type": "stream",
          "name": "stdout",
          "text": [
            "X Train :  (857, 11)\n",
            "X Test  :  (286, 11)\n",
            "Y Train :  (857,)\n",
            "Y Test  :  (286,)\n"
          ]
        }
      ]
    },
    {
      "cell_type": "markdown",
      "source": [
        " **linear_model**"
      ],
      "metadata": {
        "id": "Uts3ttUXML__"
      }
    },
    {
      "cell_type": "code",
      "source": [
        "# using the model LinearRegression\n",
        "LR_model=LinearRegression()\n",
        "\n",
        "# fit model\n",
        "LR_model.fit(X_train,y_train)\n",
        "\n",
        "# Score X and Y - test and train\n",
        "\n",
        "print(\"Score the X-train with Y-train is : \", LR_model.score(X_train,y_train))\n",
        "print(\"Score the X-test  with Y-test  is : \", LR_model.score(X_test,y_test))\n",
        "\n",
        "# Expected value Y using X test\n",
        "y_pred_LR=LR_model.predict(X_test)\n",
        "\n",
        "# Model Evaluation\n",
        "print( \" Model Evaluation Linear R : mean absolute error is \", mean_absolute_error(y_test,y_pred_LR))\n",
        "print(\" Model Evaluation Linear R : mean squared  error is \" , mean_squared_error(y_test,y_pred_LR))\n",
        "print(\" Model Evaluation Linear R : median absolute error is \" ,median_absolute_error(y_test,y_pred_LR))"
      ],
      "metadata": {
        "colab": {
          "base_uri": "https://localhost:8080/"
        },
        "id": "7CfiOSwmMOna",
        "outputId": "9390aaff-a4c6-4b0e-c53b-6ff02e12e27f"
      },
      "execution_count": 21,
      "outputs": [
        {
          "output_type": "stream",
          "name": "stdout",
          "text": [
            "Score the X-train with Y-train is :  0.3766893166865495\n",
            "Score the X-test  with Y-test  is :  0.3487901433645896\n",
            " Model Evaluation Linear R : mean absolute error is  0.4742577332205526\n",
            " Model Evaluation Linear R : mean squared  error is  0.37215517566167367\n",
            " Model Evaluation Linear R : median absolute error is  0.3771988566534432\n"
          ]
        }
      ]
    },
    {
      "cell_type": "code",
      "source": [
        "# using the model Logistic Regression\n",
        "\n",
        "Lo_model=LogisticRegression(solver='liblinear')\n",
        "\n",
        "# fit model\n",
        "\n",
        "Lo_model.fit(X_train,y_train)\n",
        "\n",
        "\n",
        "# Score X and Y - test and train model Logistic Regression\n",
        "\n",
        "print(\"Score the X-train with Y-train is : \", Lo_model.score(X_train,y_train))\n",
        "print(\"Score the X-test  with Y-test  is : \", Lo_model.score(X_test,y_test))\n",
        "\n",
        "# Expected value Y using X test\n",
        "y_pred_Lo=Lo_model.predict(X_test)\n",
        "\n",
        "# Model Evaluation\n",
        "print( \" Model Evaluation Logistic R : mean absolute error is \", mean_absolute_error(y_test,y_pred_Lo))\n",
        "print(\" Model Evaluation Logistic R : mean squared  error is \" , mean_squared_error(y_test,y_pred_Lo))\n",
        "print(\" Model Evaluation Logistic R : median absolute error is \" ,median_absolute_error(y_test,y_pred_Lo))\n",
        "\n",
        "print(\" Model Evaluation Logistic R : accuracy score \" , accuracy_score(y_test,y_pred_Lo))"
      ],
      "metadata": {
        "colab": {
          "base_uri": "https://localhost:8080/"
        },
        "id": "e9mg9e4lMRl0",
        "outputId": "1e6bd0ae-58e5-40aa-f675-59ccd54e16bc"
      },
      "execution_count": 22,
      "outputs": [
        {
          "output_type": "stream",
          "name": "stdout",
          "text": [
            "Score the X-train with Y-train is :  0.5869311551925321\n",
            "Score the X-test  with Y-test  is :  0.6258741258741258\n",
            " Model Evaluation Logistic R : mean absolute error is  0.4020979020979021\n",
            " Model Evaluation Logistic R : mean squared  error is  0.458041958041958\n",
            " Model Evaluation Logistic R : median absolute error is  0.0\n",
            " Model Evaluation Logistic R : accuracy score  0.6258741258741258\n"
          ]
        }
      ]
    },
    {
      "cell_type": "markdown",
      "source": [
        "**Decision Tree Classifier**"
      ],
      "metadata": {
        "id": "OgX9K_eVMYA9"
      }
    },
    {
      "cell_type": "code",
      "source": [
        "# using the model Decision Tree Classifier\n",
        "Tree_model=DecisionTreeClassifier(max_depth=10)\n",
        "# fit model\n",
        "Tree_model.fit(X_train,y_train)\n",
        "\n",
        "# Score X and Y - test and train\n",
        "\n",
        "print(\"Score the X-train with Y-train is : \", Tree_model.score(X_train,y_train))\n",
        "print(\"Score the X-test  with Y-test  is : \", Tree_model.score(X_test,y_test))"
      ],
      "metadata": {
        "colab": {
          "base_uri": "https://localhost:8080/"
        },
        "id": "om6VtcpDMY_q",
        "outputId": "a1825b6c-0c42-4d38-f089-7669dfd32e46"
      },
      "execution_count": 23,
      "outputs": [
        {
          "output_type": "stream",
          "name": "stdout",
          "text": [
            "Score the X-train with Y-train is :  0.9253208868144691\n",
            "Score the X-test  with Y-test  is :  0.5524475524475524\n"
          ]
        }
      ]
    },
    {
      "cell_type": "code",
      "source": [
        "print(\"The classes \",Tree_model.classes_)\n",
        "\n",
        "y_pred_T =Tree_model.predict(X_test)\n",
        "\n",
        "print(\" Model Evaluation Decision Tree : accuracy score \" , accuracy_score(y_test,y_pred_T))"
      ],
      "metadata": {
        "colab": {
          "base_uri": "https://localhost:8080/"
        },
        "id": "4FF4ZAWAMlee",
        "outputId": "d6ba673b-f007-41c7-ea25-5f74e3281c2c"
      },
      "execution_count": 24,
      "outputs": [
        {
          "output_type": "stream",
          "name": "stdout",
          "text": [
            "The classes  [3 4 5 6 7 8]\n",
            " Model Evaluation Decision Tree : accuracy score  0.5524475524475524\n"
          ]
        }
      ]
    },
    {
      "cell_type": "markdown",
      "source": [
        "**Model SVM**"
      ],
      "metadata": {
        "id": "o15xTo53Mu3S"
      }
    },
    {
      "cell_type": "code",
      "source": [
        "# using the model SVC\n",
        "svc_model=SVC(C=50,kernel=\"rbf\")\n",
        "\n",
        "# fit model\n",
        "svc_model.fit(X_train,y_train)\n",
        "\n",
        "y_pred_svc =svc_model.predict(X_test)\n",
        "\n",
        "print(\"Score the X-train with Y-train is : \", svc_model.score(X_train,y_train))\n",
        "print(\"Score the X-test  with Y-test  is : \", svc_model.score(X_test,y_test))\n",
        "print(\" Model Evaluation Decision Tree : accuracy score \" , accuracy_score(y_test,y_pred_svc))"
      ],
      "metadata": {
        "colab": {
          "base_uri": "https://localhost:8080/"
        },
        "id": "UyjXTkdaMyET",
        "outputId": "1d1f042e-2a44-4160-d2a9-24efa99eab54"
      },
      "execution_count": 25,
      "outputs": [
        {
          "output_type": "stream",
          "name": "stdout",
          "text": [
            "Score the X-train with Y-train is :  0.5950991831971996\n",
            "Score the X-test  with Y-test  is :  0.6433566433566433\n",
            " Model Evaluation Decision Tree : accuracy score  0.6433566433566433\n"
          ]
        }
      ]
    },
    {
      "cell_type": "code",
      "source": [
        "import matplotlib.pyplot as plt\n",
        "from sklearn.model_selection import learning_curve\n",
        "\n",
        "# Define a function to plot learning curves\n",
        "def plot_learning_curve(estimator, title, X, y, ylim=None, cv=None,\n",
        "                        n_jobs=None, train_sizes=np.linspace(.1, 1.0, 5)):\n",
        "    plt.figure()\n",
        "    plt.title(title)\n",
        "    if ylim is not None:\n",
        "        plt.ylim(*ylim)\n",
        "    plt.xlabel(\"Training examples\")\n",
        "    plt.ylabel(\"Score\")\n",
        "    train_sizes, train_scores, test_scores = learning_curve(\n",
        "        estimator, X, y, cv=cv, n_jobs=n_jobs, train_sizes=train_sizes)\n",
        "    train_scores_mean = np.mean(train_scores, axis=1)\n",
        "    train_scores_std = np.std(train_scores, axis=1)\n",
        "    test_scores_mean = np.mean(test_scores, axis=1)\n",
        "    test_scores_std = np.std(test_scores, axis=1)\n",
        "    plt.grid()\n",
        "\n",
        "    plt.fill_between(train_sizes, train_scores_mean - train_scores_std,\n",
        "                     train_scores_mean + train_scores_std, alpha=0.1,\n",
        "                     color=\"r\")\n",
        "    plt.fill_between(train_sizes, test_scores_mean - test_scores_std,\n",
        "                     test_scores_mean + test_scores_std, alpha=0.1, color=\"g\")\n",
        "    plt.plot(train_sizes, train_scores_mean, 'o-', color=\"r\",\n",
        "             label=\"Training score\")\n",
        "    plt.plot(train_sizes, test_scores_mean, 'o-', color=\"g\",\n",
        "             label=\"Validation score\")\n",
        "\n",
        "    plt.legend(loc=\"best\")\n",
        "    return plt\n",
        "\n",
        "# Plot learning curves\n",
        "plot_learning_curve(svc_model, \"Learning Curve - SVM\", X_train, y_train, cv=5, n_jobs=-1)\n",
        "plt.show()"
      ],
      "metadata": {
        "colab": {
          "base_uri": "https://localhost:8080/",
          "height": 477
        },
        "id": "Rg3OrMlSm006",
        "outputId": "1956c80f-6e40-4102-c71c-8ec55dc99665"
      },
      "execution_count": 36,
      "outputs": [
        {
          "output_type": "display_data",
          "data": {
            "text/plain": [
              "<Figure size 640x480 with 1 Axes>"
            ],
            "image/png": "[encoded data removed]"
          },
          "metadata": {}
        }
      ]
    },
    {
      "cell_type": "code",
      "source": [
        "# using the model SVR\n",
        "\n",
        "svr_model=SVR(degree=1,coef0=1, tol=0.001, C=1.5,epsilon=0.001)\n",
        "\n",
        "# fit model\n",
        "svr_model.fit(X_train,y_train)\n",
        "\n",
        "y_pred_svr =svc_model.predict(X_test)\n",
        "\n",
        "print(\"Score the X-train with Y-train is : \", svr_model.score(X_train,y_train))\n",
        "print(\"Score the X-test  with Y-test  is : \", svr_model.score(X_test,y_test))\n",
        "print(\" Model Evaluation Decision Tree : accuracy score \" , accuracy_score(y_test,y_pred_svr))"
      ],
      "metadata": {
        "colab": {
          "base_uri": "https://localhost:8080/"
        },
        "id": "iCYS9qb6M05c",
        "outputId": "de049695-efb5-49ee-edbe-e5b32a03058d"
      },
      "execution_count": 35,
      "outputs": [
        {
          "output_type": "stream",
          "name": "stdout",
          "text": [
            "Score the X-train with Y-train is :  0.15604841549607518\n",
            "Score the X-test  with Y-test  is :  0.24247710281791668\n",
            " Model Evaluation Decision Tree : accuracy score  0.6462882096069869\n"
          ]
        }
      ]
    },
    {
      "cell_type": "markdown",
      "source": [
        "**Neighbors model**"
      ],
      "metadata": {
        "id": "nuxTIkn0M4xd"
      }
    },
    {
      "cell_type": "code",
      "source": [
        "# using the model K Neighbors Classifier\n",
        "\n",
        "K_model = KNeighborsClassifier(n_neighbors = 5)\n",
        "K_model.fit(X_train, y_train)\n",
        "\n",
        "y_pred_k = K_model.predict(X_test)\n",
        "\n",
        "print(\"Score the X-train with Y-train is : \", K_model.score(X_train,y_train))\n",
        "print(\"Score the X-test  with Y-test  is : \", K_model.score(X_test,y_test))\n",
        "print(\" Model Evaluation K Neighbors Classifier : accuracy score \" , accuracy_score(y_test,y_pred_k))"
      ],
      "metadata": {
        "colab": {
          "base_uri": "https://localhost:8080/"
        },
        "id": "iwWwhMbpM5mz",
        "outputId": "b1ba5247-e106-4f44-c2f7-16b4bab50004"
      },
      "execution_count": 34,
      "outputs": [
        {
          "output_type": "stream",
          "name": "stdout",
          "text": [
            "Score the X-train with Y-train is :  0.6356673960612691\n",
            "Score the X-test  with Y-test  is :  0.5152838427947598\n",
            " Model Evaluation K Neighbors Classifier : accuracy score  0.5152838427947598\n"
          ]
        }
      ]
    },
    {
      "cell_type": "markdown",
      "source": [
        "# <b>*ผลลัพธ์จากการ Train data*</b>\n",
        "\n",
        "&nbsp;&nbsp;**Linear Model**\n",
        "<br > <br />\n",
        "\n",
        "1.   LinearRegression\n",
        "\n",
        "*   X-train with Y-train : 0.3766893166865495 หรือ 37%\n",
        "*   X-train with Y-train : 0.3766893166865495 หรือ 37%\n",
        "*   X-test with Y-test : 0.3487901433645896 หรือ 34%\n",
        "*   Mean absolute error : 0.4742577332205526 หรือ 47%\n",
        "*   Mean squared error : 0.37215517566167367 หรือ 37%\n",
        "*   Median absolute error : 0.3771988566534432 หรือ 37%\n",
        "<br > <br />\n",
        "\n",
        "\n",
        "2.   LogisticRegression\n",
        "\n",
        "\n",
        "* X-train with Y-train : 0.5869311551925321 หรือ 58%\n",
        "* X-test with Y-test : 0.6258741258741258 หรือ 62%\n",
        "* Mean absolute error : 0.4020979020979021 หรือ 40%\n",
        "* Mean squared error : 0.458041958041958 หรือ 45%\n",
        "* Median absolute error : 0.0\n",
        "* Accuracy : 0.6258741258741258 หรือ 62%\n",
        "<br > <br />\n",
        "\n",
        "&nbsp;&nbsp;**Decision Tree Classifier**\n",
        "<br > <br />\n",
        "* X-train with Y-train is : 0.9241540256709452 หรือ 92%\n",
        "* X-test with Y-test is : 0.5384615384615384 หรือ 54%\n",
        "* Accuracy : 0.5384615384615384 หรือ 54%\n",
        "<br > <br />\n",
        "\n",
        "&nbsp;&nbsp;**Model SVM**\n",
        "<br > <br />\n",
        "1. SVC\n",
        "* X-train with Y-train is : 0.5950991831971996 หรือ 59%\n",
        "* X-test with Y-test is : 0.6433566433566433 หรือ 64%\n",
        "* Accuracy : 0.6433566433566433 หรือ 64%\n",
        "<br > <br />\n",
        "\n",
        "2. SVR\n",
        "\n",
        "* X-train with Y-train is : 0.14069185408666396 หรือ 14%\n",
        "* X-test with Y-test is : 0.23501709956140815 หรือ 23%\n",
        "* Accuracy : 0.6433566433566433 หรือ 64%\n",
        "<br > <br />\n",
        "\n",
        "\n",
        "&nbsp;&nbsp;**Neighbors model**\n",
        "<br > <br />\n",
        "* X-train with Y-train is : 0.6289381563593932 หรือ 62%\n",
        "* X-test with Y-test is : 0.5314685314685315 หรือ 53%\n",
        "* Accuracy : 0.5314685314685315 หรือ 53%\n",
        "\n"
      ],
      "metadata": {
        "id": "alIOXccuNCl9"
      }
    },
    {
      "cell_type": "markdown",
      "source": [
        "# ปรับปรุง SVC\n",
        "**เลือก Model ที่ดีที่สุดมาปรับปรุงให้ดีขึ้น**"
      ],
      "metadata": {
        "id": "ftQFYRKsUu8W"
      }
    },
    {
      "cell_type": "markdown",
      "source": [
        "**SVC** <br/>\n",
        "X-train with Y-train is : 0.5950991831971996 หรือ 0.59%<br/>\n",
        "X-test with Y-test is : 0.6433566433566433 หรือ 0.64%<br/>\n",
        "Accuracy : 0.6433566433566433 หรือ 0.64%\n"
      ],
      "metadata": {
        "id": "h2QwYEpaUySj"
      }
    },
    {
      "cell_type": "code",
      "source": [
        "training_accuracy = 0.5951\n",
        "test_accuracy = 0.6433\n",
        "\n",
        "x_labels = [\"Training\", \"Test\"]\n",
        "y_values = [training_accuracy, test_accuracy]\n",
        "\n",
        "plt.figure(figsize=(6, 4))\n",
        "plt.bar(x_labels, y_values, color=['skyblue', 'lightgreen'])\n",
        "plt.xlabel(\"Data Set\")\n",
        "plt.ylabel(\"Accuracy\")\n",
        "plt.title(\"Training vs. Test Accuracy of SVC Model\")\n",
        "plt.grid(axis='y', linestyle='--', alpha=0.7)\n",
        "plt.tight_layout()\n",
        "plt.show()"
      ],
      "metadata": {
        "colab": {
          "base_uri": "https://localhost:8080/",
          "height": 407
        },
        "id": "IBzE8AdPcgO9",
        "outputId": "f2c42ef6-61bc-4df3-b105-c9a1ed8661aa"
      },
      "execution_count": 26,
      "outputs": [
        {
          "output_type": "display_data",
          "data": {
            "text/plain": [
              "<Figure size 600x400 with 1 Axes>"
            ],
            "image/png": "[encoded data removed]"
          },
          "metadata": {}
        }
      ]
    },
    {
      "cell_type": "code",
      "source": [
        "# using the model SVC\n",
        "svc_model=SVC(C=45,kernel=\"rbf\")\n",
        "\n",
        "# fit model\n",
        "svc_model.fit(X_train,y_train)\n",
        "\n",
        "y_pred_svc =svc_model.predict(X_test)\n",
        "\n",
        "print(\"Score the X-train with Y-train is : \", svc_model.score(X_train,y_train))\n",
        "print(\"Score the X-test  with Y-test  is : \", svc_model.score(X_test,y_test))\n",
        "print(\" Model Evaluation Decision Tree : accuracy score \" , accuracy_score(y_test,y_pred_svc))"
      ],
      "metadata": {
        "colab": {
          "base_uri": "https://localhost:8080/"
        },
        "id": "dMzT-6pMdh6_",
        "outputId": "4610a062-a7e4-43b1-d708-8cd05fb74cd1"
      },
      "execution_count": 33,
      "outputs": [
        {
          "output_type": "stream",
          "name": "stdout",
          "text": [
            "Score the X-train with Y-train is :  0.5962800875273523\n",
            "Score the X-test  with Y-test  is :  0.6462882096069869\n",
            " Model Evaluation Decision Tree : accuracy score  0.6462882096069869\n"
          ]
        }
      ]
    },
    {
      "cell_type": "markdown",
      "source": [
        "เราพยายามนำ model SVC มาหา accuracy ที่ดีที่สุด โดยปรับ parameter"
      ],
      "metadata": {
        "id": "8ABa1Gmvi5Bt"
      }
    },
    {
      "cell_type": "code",
      "source": [
        "from sklearn.model_selection import GridSearchCV\n",
        "\n",
        "param_grid = {'C': [1, 10, 50, 100], 'kernel': ['linear', 'rbf', 'poly', 'sigmoid']}\n",
        "grid_search = GridSearchCV(SVC(), param_grid, cv=5)\n",
        "grid_search.fit(X_train, y_train)\n",
        "\n",
        "best_params = grid_search.best_params_\n",
        "best_svc_model = grid_search.best_estimator_\n",
        "\n",
        "y_pred_best = best_svc_model.predict(X_test)\n",
        "print(\"Best Model Parameters:\", best_params)\n",
        "print(\"Best Model Test Accuracy:\", best_svc_model.score(X_test, y_test))"
      ],
      "metadata": {
        "id": "Rl85kum9ejkf",
        "colab": {
          "base_uri": "https://localhost:8080/"
        },
        "outputId": "5e4749ba-6dba-491f-d843-af8c73a2b9d6"
      },
      "execution_count": 37,
      "outputs": [
        {
          "output_type": "stream",
          "name": "stdout",
          "text": [
            "Best Model Parameters: {'C': 1, 'kernel': 'linear'}\n",
            "Best Model Test Accuracy: 0.611353711790393\n"
          ]
        }
      ]
    },
    {
      "cell_type": "code",
      "source": [
        "# split the data train and test\n",
        "X_train, X_test, y_train, y_test = train_test_split(X, y, test_size=0.20, random_state=42)\n",
        "\n",
        "print(\"X Train : \", X_train.shape)\n",
        "print(\"X Test  : \", X_test.shape)\n",
        "print(\"Y Train : \", y_train.shape)\n",
        "print(\"Y Test  : \", y_test.shape)\n",
        "\n",
        "# using the model SVC\n",
        "svc_model=SVC(C=45,kernel=\"rbf\")\n",
        "\n",
        "# fit model\n",
        "svc_model.fit(X_train,y_train)\n",
        "\n",
        "y_pred_svc =svc_model.predict(X_test)\n",
        "\n",
        "print(\"Score the X-train with Y-train is : \", svc_model.score(X_train,y_train))\n",
        "print(\"Score the X-test  with Y-test  is : \", svc_model.score(X_test,y_test))\n",
        "print(\" Model Evaluation Decision Tree : accuracy score \" , accuracy_score(y_test,y_pred_svc))"
      ],
      "metadata": {
        "colab": {
          "base_uri": "https://localhost:8080/"
        },
        "id": "ZxnVcEO8lPaQ",
        "outputId": "0ec21a6c-2824-44fd-d192-45fbea505c7f"
      },
      "execution_count": 27,
      "outputs": [
        {
          "output_type": "stream",
          "name": "stdout",
          "text": [
            "X Train :  (914, 11)\n",
            "X Test  :  (229, 11)\n",
            "Y Train :  (914,)\n",
            "Y Test  :  (229,)\n",
            "Score the X-train with Y-train is :  0.5962800875273523\n",
            "Score the X-test  with Y-test  is :  0.6462882096069869\n",
            " Model Evaluation Decision Tree : accuracy score  0.6462882096069869\n"
          ]
        }
      ]
    },
    {
      "cell_type": "markdown",
      "source": [
        "ซึ่งค่าที่ดีที่สุดคือ 0.64 ซึ่งเราต้องการปรับปรุงให้ดีกว่านี้"
      ],
      "metadata": {
        "id": "O42-6jR64O07"
      }
    },
    {
      "cell_type": "markdown",
      "source": [
        "# ลองใช้ Model ใหม่ เลือก RandomForest มาปรับปรุง"
      ],
      "metadata": {
        "id": "UzgVlf8gjYHT"
      }
    },
    {
      "cell_type": "markdown",
      "source": [
        "เราลองใช้ Model\n",
        "* Bagging\n",
        "* Random Forest\n",
        "* AdaBoost"
      ],
      "metadata": {
        "id": "4ovIxxxEjpu_"
      }
    },
    {
      "cell_type": "code",
      "source": [
        "from sklearn.ensemble import BaggingClassifier, RandomForestClassifier, AdaBoostClassifier\n",
        "from xgboost import XGBClassifier\n",
        "from sklearn.metrics import accuracy_score\n",
        "from sklearn.model_selection import train_test_split\n",
        "\n",
        "# Split the data into train and test\n",
        "X_train, X_test, y_train, y_test = train_test_split(X, y, test_size=0.20, random_state=42)\n",
        "\n",
        "# BaggingClassifier\n",
        "bagging_model = BaggingClassifier(base_estimator=None, n_estimators=100, random_state=42)\n",
        "bagging_model.fit(X_train, y_train)\n",
        "y_pred_bagging = bagging_model.predict(X_test)\n",
        "print(\"Bagging Classifier - Accuracy:\", accuracy_score(y_test, y_pred_bagging))\n",
        "\n",
        "# RandomForestClassifier\n",
        "rf_model = RandomForestClassifier(n_estimators=100, random_state=42)\n",
        "rf_model.fit(X_train, y_train)\n",
        "y_pred_rf = rf_model.predict(X_test)\n",
        "print(\"Random Forest Classifier - Accuracy:\", accuracy_score(y_test, y_pred_rf))\n",
        "\n",
        "\n",
        "# AdaBoostClassifier\n",
        "adaboost_model = AdaBoostClassifier(n_estimators=100, random_state=42)\n",
        "adaboost_model.fit(X_train, y_train)\n",
        "y_pred_adaboost = adaboost_model.predict(X_test)\n",
        "print(\"AdaBoost Classifier - Accuracy:\", accuracy_score(y_test, y_pred_adaboost))\n"
      ],
      "metadata": {
        "colab": {
          "base_uri": "https://localhost:8080/"
        },
        "id": "VYfrFHw5jozw",
        "outputId": "78f22c3d-d9e0-46e0-8209-458cedd4bf89"
      },
      "execution_count": 28,
      "outputs": [
        {
          "output_type": "stream",
          "name": "stdout",
          "text": [
            "Bagging Classifier - Accuracy: 0.6899563318777293\n",
            "Random Forest Classifier - Accuracy: 0.7030567685589519\n",
            "AdaBoost Classifier - Accuracy: 0.4672489082969432\n"
          ]
        }
      ]
    },
    {
      "cell_type": "markdown",
      "source": [
        "* Bagging Classifier - Accuracy: 0.6899563318777293\n",
        "* Random Forest Classifier - Accuracy: 0.7030567685589519\n",
        "* AdaBoost Classifier - Accuracy: 0.4672489082969432"
      ],
      "metadata": {
        "id": "gdx8Hu8tj7jr"
      }
    },
    {
      "cell_type": "markdown",
      "source": [
        "**เราเห็นว่า Random Forest ให้ค่า accuracy ที่ดีที่สุดจึงนำมาปรับจูน**"
      ],
      "metadata": {
        "id": "18ktHiwWj_QX"
      }
    },
    {
      "cell_type": "code",
      "source": [
        "from sklearn.ensemble import RandomForestClassifier\n",
        "from sklearn.metrics import accuracy_score\n",
        "from sklearn.model_selection import train_test_split\n",
        "\n",
        "# split the data into train and test\n",
        "X_train, X_test, y_train, y_test = train_test_split(X, y, test_size=0.20, random_state=42)\n",
        "\n",
        "print(\"X Train : \", X_train.shape)\n",
        "print(\"X Test  : \", X_test.shape)\n",
        "print(\"Y Train : \", y_train.shape)\n",
        "print(\"Y Test  : \", y_test.shape)\n",
        "\n",
        "# using the RandomForestClassifier\n",
        "rf_model = RandomForestClassifier(n_estimators=100, random_state=42)\n",
        "\n",
        "# fit the model\n",
        "rf_model.fit(X_train, y_train)\n",
        "\n",
        "y_pred_rf = rf_model.predict(X_test)\n",
        "\n",
        "print(\"Score the X-train with Y-train is: \", rf_model.score(X_train, y_train))\n",
        "print(\"Score the X-test with Y-test is: \", rf_model.score(X_test, y_test))\n",
        "print(\"Model Evaluation RandomForest: accuracy score\", accuracy_score(y_test, y_pred_rf))\n"
      ],
      "metadata": {
        "colab": {
          "base_uri": "https://localhost:8080/"
        },
        "id": "gUpy_i0tjn_U",
        "outputId": "ba022043-35c7-479b-ad76-b4bb1ec3343d"
      },
      "execution_count": 29,
      "outputs": [
        {
          "output_type": "stream",
          "name": "stdout",
          "text": [
            "X Train :  (914, 11)\n",
            "X Test  :  (229, 11)\n",
            "Y Train :  (914,)\n",
            "Y Test  :  (229,)\n",
            "Score the X-train with Y-train is:  1.0\n",
            "Score the X-test with Y-test is:  0.7030567685589519\n",
            "Model Evaluation RandomForest: accuracy score 0.7030567685589519\n"
          ]
        }
      ]
    },
    {
      "cell_type": "code",
      "source": [
        "from sklearn.model_selection import train_test_split\n",
        "from sklearn.ensemble import RandomForestClassifier\n",
        "from sklearn.metrics import accuracy_score\n",
        "\n",
        "# Split the data into training and testing sets\n",
        "X_train, X_test, y_train, y_test = train_test_split(X, y, test_size=0.20, random_state=42)\n",
        "\n",
        "print(\"X Train : \", X_train.shape)\n",
        "print(\"X Test  : \", X_test.shape)\n",
        "print(\"Y Train : \", y_train.shape)\n",
        "print(\"Y Test  : \", y_test.shape)\n",
        "\n",
        "# Use the RandomForestClassifier\n",
        "rf_model = RandomForestClassifier(n_estimators=100, max_depth=20, min_samples_split=5, min_samples_leaf=2, random_state=42)\n",
        "\n",
        "# Fit the model\n",
        "rf_model.fit(X_train, y_train)\n",
        "\n",
        "# Make predictions\n",
        "y_pred_rf = rf_model.predict(X_test)\n",
        "\n",
        "# Evaluate the model\n",
        "print(\"Score on the X-train with Y-train is:\", rf_model.score(X_train, y_train))\n",
        "print(\"Score on the X-test with Y-test is:\", rf_model.score(X_test, y_test))\n",
        "print(\"Model Evaluation Random Forest: accuracy score\", accuracy_score(y_test, y_pred_rf))"
      ],
      "metadata": {
        "id": "jKrET1VlLKcr",
        "colab": {
          "base_uri": "https://localhost:8080/"
        },
        "outputId": "af314389-94e8-4e68-d997-6cc05a63c4d5"
      },
      "execution_count": 30,
      "outputs": [
        {
          "output_type": "stream",
          "name": "stdout",
          "text": [
            "X Train :  (914, 11)\n",
            "X Test  :  (229, 11)\n",
            "Y Train :  (914,)\n",
            "Y Test  :  (229,)\n",
            "Score on the X-train with Y-train is: 0.9529540481400438\n",
            "Score on the X-test with Y-test is: 0.7117903930131004\n",
            "Model Evaluation Random Forest: accuracy score 0.7117903930131004\n"
          ]
        }
      ]
    },
    {
      "cell_type": "markdown",
      "source": [
        "หลังจากทำการปรับปรุงเราได้โมเดดล Randomforest ที่ให้ค่า accuracy สูงสุดอยู่ที่ 71%"
      ],
      "metadata": {
        "id": "3yDjDpopmk_h"
      }
    },
    {
      "cell_type": "markdown",
      "source": [
        "# สรุปผล"
      ],
      "metadata": {
        "id": "zNEI31zamskM"
      }
    },
    {
      "cell_type": "code",
      "source": [
        "plt.figure(figsize=(10,5))\n",
        "sns.lineplot(data=df, x=\"quality\",y=\"volatile acidity\",label=\"Volatile Acidity\")\n",
        "sns.lineplot(data=df, x=\"quality\",y=\"citric acid\",label=\"Citric Acid\")\n",
        "sns.lineplot(data=df, x=\"quality\",y=\"chlorides\",label=\"chlorides\")\n",
        "sns.lineplot(data=df, x=\"quality\",y=\"pH\",label=\"PH\")\n",
        "sns.lineplot(data=df, x=\"quality\",y=\"sulphates\",label=\"Sulphates\")\n",
        "\n",
        "sns.lineplot(data=df, x=\"quality\",y=\"alcohol\",label=\"alcohol\")\n",
        "sns.lineplot(data=df, x=\"quality\",y=\"total sulfur dioxide\",label=\"total sulfur dioxide\")\n",
        "sns.lineplot(data=df, x=\"quality\",y=\"free sulfur dioxide\",label=\"free sulfur dioxide\")\n",
        "\n",
        "plt.ylabel(\"Quantity\")\n",
        "plt.title(\"Impact on quality\")\n",
        "plt.legend()\n",
        "plt.show()"
      ],
      "metadata": {
        "colab": {
          "base_uri": "https://localhost:8080/",
          "height": 492
        },
        "id": "RXavjjae4VmR",
        "outputId": "5e388970-a8c6-403b-a079-9889e0fb1288"
      },
      "execution_count": 31,
      "outputs": [
        {
          "output_type": "display_data",
          "data": {
            "text/plain": [
              "<Figure size 1000x500 with 1 Axes>"
            ],
            "image/png": "[encoded data removed]"
          },
          "metadata": {}
        }
      ]
    },
    {
      "cell_type": "markdown",
      "source": [
        "**จากการนำข้อมูลมาทำการวิเคราะห์**<br/>\n",
        "เราได้เห็นfeatureต่างๆ และค่า Quality\n",
        "โดยแบ่ง Quality หรือประสิทธิภาพของไวน์ได้เป็นช่วง 3-8\n",
        "จากนั้นนำ feature มาทำ eda และหาว่า feature ไหนบ้างส่งผลกับ Quality ของไวน์มากที่สุด <br/>\n",
        "**ค่าที่มีผลต่อ Quality มากที่สุด (นอกจากนั้นจะมีผลน้อย)**\n",
        "1.   total sulfur dioxide\n",
        "2.   free sulfur dioxide\n",
        "3.   alcohol\n",
        "\n",
        "หลังจากทำการวิเคราะห์ข้อมูลจึงนำข้อมูลมา train ด้วย Model ต่างๆได้เห็นว่า SVC ดีที่สุด **แต่** เราอยากทำให้ดีมากกว่านี้เลยลอง train model อื่นเพิ่มและได้ใช้ randomforest จากนั้นนำมาปรับปรุงและแก้ไข parameter และได้ผลลัพธ์ที่ดีที่สุด\n",
        "\n"
      ],
      "metadata": {
        "id": "8rCjj84tmvTa"
      }
    },
    {
      "cell_type": "code",
      "source": [
        "print(\"Model Evaluation RandomForest: accuracy score\", accuracy_score(y_test, y_pred_rf))"
      ],
      "metadata": {
        "colab": {
          "base_uri": "https://localhost:8080/"
        },
        "id": "y38E_z4r4hXY",
        "outputId": "a54b29d0-8276-4044-85e1-4e000dc35685"
      },
      "execution_count": 32,
      "outputs": [
        {
          "output_type": "stream",
          "name": "stdout",
          "text": [
            "Model Evaluation RandomForest: accuracy score 0.7117903930131004\n"
          ]
        }
      ]
    }
  ]
}